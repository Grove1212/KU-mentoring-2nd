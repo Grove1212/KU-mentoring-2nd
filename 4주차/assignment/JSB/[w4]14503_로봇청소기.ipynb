{
  "nbformat": 4,
  "nbformat_minor": 0,
  "metadata": {
    "colab": {
      "provenance": []
    },
    "kernelspec": {
      "name": "python3",
      "display_name": "Python 3"
    },
    "language_info": {
      "name": "python"
    }
  },
  "cells": [
    {
      "cell_type": "code",
      "source": [
        "# 1단계: 입력받기\n",
        "N, M = map(int, input().split())\n",
        "r, c, d = map(int, input().split())\n",
        "room = [list(map(int, input().split())) for _ in range(N)]\n",
        "\n",
        "# 2단계: 설정하기\n",
        "dx = [-1, 0, 1, 0]  # 북동남서(0123)\n",
        "dy = [0, 1, 0, -1]\n",
        "cnt = 0\n",
        "\n",
        "# 3단계: 청소하기\n",
        "while True:\n",
        "    # 현재 위치 청소\n",
        "    if room[r][c] == 0:\n",
        "        room[r][c] = 2\n",
        "        cnt += 1\n",
        "\n",
        "    # 회전 및 이동\n",
        "    unavail = False\n",
        "    for _ in range(4):\n",
        "        nd = (d - 1) % 4  # 왼쪽으로 회전\n",
        "        nr = r + dx[nd]\n",
        "        nc = c + dy[nd]\n",
        "        if 0 <= nr < N and 0 <= nc < M and room[nr][nc] == 0:\n",
        "            r, c, d = nr, nc, nd\n",
        "            unavail = True\n",
        "            break\n",
        "        else:\n",
        "            d = nd\n",
        "\n",
        "    # 네 방향 모두 청소되었거나 벽인 경우\n",
        "    if not unavail:\n",
        "        nr, nc = r - dx[d], c - dy[d]  # 후진\n",
        "        if 0 <= nr < N and 0 <= nc < M and room[nr][nc] != 1:\n",
        "            r, c = nr, nc\n",
        "        else:\n",
        "            break\n",
        "\n",
        "# 4단계: 결과보기\n",
        "print(cnt)"
      ],
      "metadata": {
        "colab": {
          "base_uri": "https://localhost:8080/"
        },
        "id": "48KqDgVhqKYV",
        "outputId": "4bc126d7-8f91-41e3-d30a-0a03b2ca64df"
      },
      "execution_count": null,
      "outputs": [
        {
          "output_type": "stream",
          "name": "stdout",
          "text": [
            "11 10\n",
            "7 4 0\n",
            "1 1 1 1 1 1 1 1 1 1\n",
            "1 0 0 0 0 0 0 0 0 1\n",
            "1 0 0 0 1 1 1 1 0 1\n",
            "1 0 0 1 1 0 0 0 0 1\n",
            "1 0 1 1 0 0 0 0 0 1\n",
            "1 0 0 0 0 0 0 0 0 1\n",
            "1 0 0 0 0 0 0 1 0 1\n",
            "1 0 0 0 0 0 1 1 0 1\n",
            "1 0 0 0 0 0 1 1 0 1\n",
            "1 0 0 0 0 0 0 0 0 1\n",
            "1 1 1 1 1 1 1 1 1 1\n",
            "57\n"
          ]
        }
      ]
    }
  ]
}