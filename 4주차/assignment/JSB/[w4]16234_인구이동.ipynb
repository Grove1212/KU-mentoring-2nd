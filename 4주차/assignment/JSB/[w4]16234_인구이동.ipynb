{
  "nbformat": 4,
  "nbformat_minor": 0,
  "metadata": {
    "colab": {
      "provenance": []
    },
    "kernelspec": {
      "name": "python3",
      "display_name": "Python 3"
    },
    "language_info": {
      "name": "python"
    }
  },
  "cells": [
    {
      "cell_type": "code",
      "execution_count": 7,
      "metadata": {
        "id": "A2D35WEtGx6G",
        "colab": {
          "base_uri": "https://localhost:8080/"
        },
        "outputId": "123d5c2d-dbae-473d-d614-99ea3637687b"
      },
      "outputs": [
        {
          "output_type": "stream",
          "name": "stdout",
          "text": [
            "2 20 50\n",
            "50 30\n",
            "20 40\n",
            "1\n"
          ]
        }
      ],
      "source": [
        "from collections import deque\n",
        "\n",
        "# 1단계: 입력받기\n",
        "N, L, R = map(int, input().split())\n",
        "box = [list(map(int, input().split())) for i in range(N)]\n",
        "\n",
        "# 2단계: 설정하기\n",
        "dx = [-1, 1, 0, 0] #상하좌우순\n",
        "dy = [0, 0, -1, 1]\n",
        "\n",
        "# 3단계: 연합국 탐색하기\n",
        "def bfs(i, j):\n",
        "    queue = deque()\n",
        "    union = []\n",
        "    queue.append((i, j))\n",
        "    union.append((i, j))\n",
        "\n",
        "    while queue:\n",
        "        x, y = queue.popleft()\n",
        "        for k in range(4):\n",
        "            nx = x + dx[k]\n",
        "            ny = y + dy[k]\n",
        "            if 0 <= nx < N and 0 <= ny < N and visited[nx][ny] == 0:\n",
        "                if L <= abs(box[nx][ny] - box[x][y]) <= R:\n",
        "                    visited[nx][ny] = 1\n",
        "                    queue.append((nx, ny))\n",
        "                    union.append((nx, ny))\n",
        "    return union\n",
        "\n",
        "# 4단계: 인구이동하고 결과 확인하기\n",
        "result = 0\n",
        "while True:\n",
        "    visited = [[0 for _ in range(N)] for _ in range(N)]\n",
        "    flag = 0\n",
        "    for i in range(N):\n",
        "        for j in range(N):\n",
        "            if visited[i][j] == 0:\n",
        "                visited[i][j] = 1\n",
        "                country = bfs(i, j)\n",
        "\n",
        "                if len(country) > 1:\n",
        "                    flag = 1\n",
        "                    people = sum(box[x][y] for x, y in country) // len(country)\n",
        "\n",
        "                    for x, y in country:\n",
        "                        box[x][y] = people\n",
        "\n",
        "    if flag == 0:\n",
        "        print(result)\n",
        "        break\n",
        "\n",
        "    result += 1"
      ]
    },
    {
      "cell_type": "code",
      "source": [
        "2 20 50\n",
        "50 30\n",
        "20 40"
      ],
      "metadata": {
        "id": "qV1RH5DKTePU"
      },
      "execution_count": null,
      "outputs": []
    }
  ]
}